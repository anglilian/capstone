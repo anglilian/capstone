{
  "nbformat": 4,
  "nbformat_minor": 0,
  "metadata": {
    "colab": {
      "name": "english_topic_model.ipynb",
      "provenance": []
    },
    "kernelspec": {
      "name": "python3",
      "display_name": "Python 3"
    },
    "language_info": {
      "name": "python"
    }
  },
  "cells": [
    {
      "cell_type": "code",
      "metadata": {
        "id": "1SwVyfJoNAvG"
      },
      "source": [
        "import pandas as pd \n",
        "from bertopic import BERTopic\n",
        "import matplotlib.pyplot as plt"
      ],
      "execution_count": null,
      "outputs": []
    },
    {
      "cell_type": "code",
      "metadata": {
        "id": "e0k3XLPYQ3nV"
      },
      "source": [
        " def visualise_topics(topic_dict):\n",
        "  \"\"\"Plot the percentage representation of the top 10 words in each topic\"\"\"\n",
        "  plt.figure(figsize=(10,5))\n",
        "  for id, topic in topic_dict.items():\n",
        "    if min(topic_model.get_topics().keys()) ==-1:\n",
        "      k = 2\n",
        "    elif min(topic_model.get_topics().keys()) ==0:\n",
        "      k = 1\n",
        "    else:\n",
        "      raise ValueError()\n",
        "    plt.subplot(1,len(topic_dict), k+id)\n",
        "    words = [i[0] for i in topic]\n",
        "    prob = [i[1] for i in topic]\n",
        "    plt.barh(words, prob)\n",
        "    plt.title(f'Topic {id}')\n",
        "    plt.xlabel(\"Probability\")\n",
        "\n",
        "  plt.tight_layout()\n",
        "  plt.plot()"
      ],
      "execution_count": null,
      "outputs": []
    },
    {
      "cell_type": "code",
      "metadata": {
        "id": "lFfOqbWTNJgi"
      },
      "source": [
        "df = pd.read_excel(\"scraped_articles.xlsx\", sheet_name=\"Sheet2\")\n",
        "\n",
        "# Extract English language articles\n",
        "eng_df = df[df.lang == \"EN\"]\n",
        "strings = eng_df.article.tolist()"
      ],
      "execution_count": null,
      "outputs": []
    },
    {
      "cell_type": "code",
      "metadata": {
        "id": "j_DCt7bTNLgx"
      },
      "source": [
        "eng_topic_model = BERTopic()\n",
        "eng_topics, eng_probs = topic_model.fit_transform(strings)"
      ],
      "execution_count": null,
      "outputs": []
    },
    {
      "cell_type": "code",
      "metadata": {
        "colab": {
          "base_uri": "https://localhost:8080/",
          "height": 369
        },
        "id": "lojUORuuauh9",
        "outputId": "d3ebaec6-cbc9-4b44-a275-fc197301fabc"
      },
      "source": [
        "visualise_topics(eng_topic_model.get_topics())"
      ],
      "execution_count": null,
      "outputs": [
        {
          "output_type": "display_data",
          "data": {
            "image/png": "[encoded data removed]",
            "text/plain": [
              "<Figure size 720x360 with 2 Axes>"
            ]
          },
          "metadata": {
            "needs_background": "light"
          }
        }
      ]
    },
    {
      "cell_type": "code",
      "metadata": {
        "colab": {
          "base_uri": "https://localhost:8080/",
          "height": 110
        },
        "id": "ppz_Xw3uN5_c",
        "outputId": "9f62ca21-2275-4fb7-f9d0-caa54b578224"
      },
      "source": [
        "eng_topic_model.get_topic_info()"
      ],
      "execution_count": null,
      "outputs": [
        {
          "output_type": "execute_result",
          "data": {
            "text/html": [
              "<div>\n",
              "<style scoped>\n",
              "    .dataframe tbody tr th:only-of-type {\n",
              "        vertical-align: middle;\n",
              "    }\n",
              "\n",
              "    .dataframe tbody tr th {\n",
              "        vertical-align: top;\n",
              "    }\n",
              "\n",
              "    .dataframe thead th {\n",
              "        text-align: right;\n",
              "    }\n",
              "</style>\n",
              "<table border=\"1\" class=\"dataframe\">\n",
              "  <thead>\n",
              "    <tr style=\"text-align: right;\">\n",
              "      <th></th>\n",
              "      <th>Topic</th>\n",
              "      <th>Count</th>\n",
              "      <th>Name</th>\n",
              "    </tr>\n",
              "  </thead>\n",
              "  <tbody>\n",
              "    <tr>\n",
              "      <th>0</th>\n",
              "      <td>0</td>\n",
              "      <td>161</td>\n",
              "      <td>0_to_of_schools_for</td>\n",
              "    </tr>\n",
              "    <tr>\n",
              "      <th>1</th>\n",
              "      <td>1</td>\n",
              "      <td>27</td>\n",
              "      <td>1_court_malaysia_schools_filed</td>\n",
              "    </tr>\n",
              "  </tbody>\n",
              "</table>\n",
              "</div>"
            ],
            "text/plain": [
              "   Topic  Count                            Name\n",
              "0      0    161             0_to_of_schools_for\n",
              "1      1     27  1_court_malaysia_schools_filed"
            ]
          },
          "metadata": {},
          "execution_count": 8
        }
      ]
    },
    {
      "cell_type": "code",
      "metadata": {
        "id": "-IOa-y3XPb8t"
      },
      "source": [
        "# Extract Malay language articles\n",
        "bm_df = df[df.lang == \"BM\"]\n",
        "strings = bm_df.article.tolist()\n",
        "\n",
        "# Multilingual BERTopic model\n",
        "bm_topic_model = BERTopic(language='multilingual')\n",
        "bm_topics, bm_probs = bm_topic_model.fit_transform(strings)"
      ],
      "execution_count": null,
      "outputs": []
    },
    {
      "cell_type": "code",
      "metadata": {
        "colab": {
          "base_uri": "https://localhost:8080/",
          "height": 369
        },
        "id": "sVTVzyGkbqj1",
        "outputId": "a62a7ccb-98bc-4915-997a-8f96b1efcbc4"
      },
      "source": [
        "visualise_topics(bm_topic_model.get_topics())"
      ],
      "execution_count": null,
      "outputs": [
        {
          "output_type": "display_data",
          "data": {
            "image/png": "[encoded data removed]",
            "text/plain": [
              "<Figure size 720x360 with 3 Axes>"
            ]
          },
          "metadata": {
            "needs_background": "light"
          }
        }
      ]
    },
    {
      "cell_type": "code",
      "metadata": {
        "colab": {
          "base_uri": "https://localhost:8080/",
          "height": 172
        },
        "id": "sSfMw9ChQQ5_",
        "outputId": "86d6229f-01b8-444e-de73-cccf6ad2ce1a"
      },
      "source": [
        "bm_topic_model.get_topic_info()"
      ],
      "execution_count": null,
      "outputs": [
        {
          "output_type": "execute_result",
          "data": {
            "text/html": [
              "<div>\n",
              "<style scoped>\n",
              "    .dataframe tbody tr th:only-of-type {\n",
              "        vertical-align: middle;\n",
              "    }\n",
              "\n",
              "    .dataframe tbody tr th {\n",
              "        vertical-align: top;\n",
              "    }\n",
              "\n",
              "    .dataframe thead th {\n",
              "        text-align: right;\n",
              "    }\n",
              "</style>\n",
              "<table border=\"1\" class=\"dataframe\">\n",
              "  <thead>\n",
              "    <tr style=\"text-align: right;\">\n",
              "      <th></th>\n",
              "      <th>Topic</th>\n",
              "      <th>Count</th>\n",
              "      <th>Name</th>\n",
              "    </tr>\n",
              "  </thead>\n",
              "  <tbody>\n",
              "    <tr>\n",
              "      <th>0</th>\n",
              "      <td>-1</td>\n",
              "      <td>43</td>\n",
              "      <td>-1_yang_sekolah_bahasa_pendidikan</td>\n",
              "    </tr>\n",
              "    <tr>\n",
              "      <th>1</th>\n",
              "      <td>0</td>\n",
              "      <td>34</td>\n",
              "      <td>0_bahasa_sekolah_melayu_cina</td>\n",
              "    </tr>\n",
              "    <tr>\n",
              "      <th>2</th>\n",
              "      <td>1</td>\n",
              "      <td>28</td>\n",
              "      <td>1_sekolah_murid_kerajaan_peruntukan</td>\n",
              "    </tr>\n",
              "    <tr>\n",
              "      <th>3</th>\n",
              "      <td>2</td>\n",
              "      <td>20</td>\n",
              "      <td>2_sekolah_perpaduan_kita_negara</td>\n",
              "    </tr>\n",
              "  </tbody>\n",
              "</table>\n",
              "</div>"
            ],
            "text/plain": [
              "   Topic  Count                                 Name\n",
              "0     -1     43    -1_yang_sekolah_bahasa_pendidikan\n",
              "1      0     34         0_bahasa_sekolah_melayu_cina\n",
              "2      1     28  1_sekolah_murid_kerajaan_peruntukan\n",
              "3      2     20      2_sekolah_perpaduan_kita_negara"
            ]
          },
          "metadata": {},
          "execution_count": 22
        }
      ]
    }
  ]
}